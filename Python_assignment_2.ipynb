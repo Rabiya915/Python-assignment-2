{
  "nbformat": 4,
  "nbformat_minor": 0,
  "metadata": {
    "colab": {
      "provenance": [],
      "authorship_tag": "ABX9TyMO561p0JkjbaJEBVNA2TC/",
      "include_colab_link": true
    },
    "kernelspec": {
      "name": "python3",
      "display_name": "Python 3"
    },
    "language_info": {
      "name": "python"
    }
  },
  "cells": [
    {
      "cell_type": "markdown",
      "metadata": {
        "id": "view-in-github",
        "colab_type": "text"
      },
      "source": [
        "<a href=\"https://colab.research.google.com/github/Rabiya915/Python-assignment-2/blob/main/Python_assignment_2.ipynb\" target=\"_parent\"><img src=\"https://colab.research.google.com/assets/colab-badge.svg\" alt=\"Open In Colab\"/></a>"
      ]
    },
    {
      "cell_type": "markdown",
      "source": [
        "Python Lists"
      ],
      "metadata": {
        "id": "gMn21J1Qci1K"
      }
    },
    {
      "cell_type": "code",
      "source": [
        "my_list =[]\n",
        "my_list.extend([1,2,3,4,5,6,7,8,8,7])\n",
        "print(my_list)"
      ],
      "metadata": {
        "colab": {
          "base_uri": "https://localhost:8080/"
        },
        "id": "m71ywk0-cm1F",
        "outputId": "d213f390-e7a8-48f3-90b6-374795003602"
      },
      "execution_count": null,
      "outputs": [
        {
          "output_type": "stream",
          "name": "stdout",
          "text": [
            "[1, 2, 3, 4, 5, 6, 7, 8, 8, 7]\n"
          ]
        }
      ]
    },
    {
      "cell_type": "code",
      "source": [
        "first_ele = my_list[0]\n",
        "last_ele = my_list[-1]\n",
        "print(first_ele, last_ele)"
      ],
      "metadata": {
        "colab": {
          "base_uri": "https://localhost:8080/"
        },
        "id": "FDRJYTeWdPuj",
        "outputId": "2576d658-4bdf-4bb4-e023-559f2c07e6bc"
      },
      "execution_count": null,
      "outputs": [
        {
          "output_type": "stream",
          "name": "stdout",
          "text": [
            "1 7\n"
          ]
        }
      ]
    },
    {
      "cell_type": "code",
      "source": [
        "slicing = my_list[2:4]\n",
        "slicing\n"
      ],
      "metadata": {
        "colab": {
          "base_uri": "https://localhost:8080/"
        },
        "id": "T8HChFhfdvw1",
        "outputId": "f20c8e31-6c7b-43b2-d85b-b7d0ca4d1ac4"
      },
      "execution_count": null,
      "outputs": [
        {
          "output_type": "execute_result",
          "data": {
            "text/plain": [
              "[3, 4]"
            ]
          },
          "metadata": {},
          "execution_count": 44
        }
      ]
    },
    {
      "cell_type": "code",
      "source": [
        "my_list.append(9)\n",
        "my_list"
      ],
      "metadata": {
        "colab": {
          "base_uri": "https://localhost:8080/"
        },
        "id": "0raxialxd9ZU",
        "outputId": "9b0b75d8-2a8f-4f5a-cc72-17401b45e743"
      },
      "execution_count": null,
      "outputs": [
        {
          "output_type": "execute_result",
          "data": {
            "text/plain": [
              "[1, 2, 3, 4, 5, 6, 7, 8, 8, 7, 9]"
            ]
          },
          "metadata": {},
          "execution_count": 45
        }
      ]
    },
    {
      "cell_type": "code",
      "source": [
        "my_list.insert(6,3)\n",
        "my_list"
      ],
      "metadata": {
        "colab": {
          "base_uri": "https://localhost:8080/"
        },
        "id": "voJwYcwMePz5",
        "outputId": "de953b54-c4cf-49bb-c1bd-411b33dddbd0"
      },
      "execution_count": null,
      "outputs": [
        {
          "output_type": "execute_result",
          "data": {
            "text/plain": [
              "[1, 2, 3, 4, 5, 6, 3, 7, 8, 8, 7, 9]"
            ]
          },
          "metadata": {},
          "execution_count": 46
        }
      ]
    },
    {
      "cell_type": "code",
      "source": [
        "my_list.remove(3)\n",
        "my_list"
      ],
      "metadata": {
        "colab": {
          "base_uri": "https://localhost:8080/"
        },
        "id": "LjOihU7EeaCt",
        "outputId": "4cee6886-f05d-4a63-b1a1-99102cbe553f"
      },
      "execution_count": null,
      "outputs": [
        {
          "output_type": "execute_result",
          "data": {
            "text/plain": [
              "[1, 2, 4, 5, 6, 3, 7, 8, 8, 7, 9]"
            ]
          },
          "metadata": {},
          "execution_count": 47
        }
      ]
    },
    {
      "cell_type": "code",
      "source": [
        "my_list.pop(0)\n",
        "my_list"
      ],
      "metadata": {
        "colab": {
          "base_uri": "https://localhost:8080/"
        },
        "id": "4atK4KKEezLz",
        "outputId": "7d0de487-f6a0-4bf6-b6d8-663bdbbcc02f"
      },
      "execution_count": null,
      "outputs": [
        {
          "output_type": "execute_result",
          "data": {
            "text/plain": [
              "[2, 4, 5, 6, 3, 7, 8, 8, 7, 9]"
            ]
          },
          "metadata": {},
          "execution_count": 48
        }
      ]
    },
    {
      "cell_type": "code",
      "source": [
        "if 8 in my_list:\n",
        "  print(\"yes\")"
      ],
      "metadata": {
        "colab": {
          "base_uri": "https://localhost:8080/"
        },
        "id": "i0nEOn1ce75L",
        "outputId": "46ccacef-05b0-42e5-a444-a43c9cadc13f"
      },
      "execution_count": null,
      "outputs": [
        {
          "output_type": "stream",
          "name": "stdout",
          "text": [
            "yes\n"
          ]
        }
      ]
    },
    {
      "cell_type": "code",
      "source": [
        "length = len(my_list)\n",
        "length"
      ],
      "metadata": {
        "colab": {
          "base_uri": "https://localhost:8080/"
        },
        "id": "X9GLyx6ifLfg",
        "outputId": "35e735aa-b9ab-4167-9a35-a270af9a1f10"
      },
      "execution_count": null,
      "outputs": [
        {
          "output_type": "execute_result",
          "data": {
            "text/plain": [
              "10"
            ]
          },
          "metadata": {},
          "execution_count": 50
        }
      ]
    },
    {
      "cell_type": "code",
      "source": [
        "for i in my_list:\n",
        "  print(i, end = \" \")"
      ],
      "metadata": {
        "colab": {
          "base_uri": "https://localhost:8080/"
        },
        "id": "TyP3qJ6IfRSc",
        "outputId": "1adaac1e-b4d9-438e-e314-e498b61ca9f3"
      },
      "execution_count": null,
      "outputs": [
        {
          "output_type": "stream",
          "name": "stdout",
          "text": [
            "2 4 5 6 3 7 8 8 7 9 "
          ]
        }
      ]
    },
    {
      "cell_type": "code",
      "source": [
        "my_list.sort()\n",
        "my_list\n"
      ],
      "metadata": {
        "colab": {
          "base_uri": "https://localhost:8080/"
        },
        "id": "8_F4OZzqfdlh",
        "outputId": "6412ed74-2249-4fa3-89cd-dd4f85e1b129"
      },
      "execution_count": null,
      "outputs": [
        {
          "output_type": "execute_result",
          "data": {
            "text/plain": [
              "[2, 3, 4, 5, 6, 7, 7, 8, 8, 9]"
            ]
          },
          "metadata": {},
          "execution_count": 52
        }
      ]
    },
    {
      "cell_type": "code",
      "source": [
        "my_list.sort(reverse=True)\n",
        "my_list"
      ],
      "metadata": {
        "colab": {
          "base_uri": "https://localhost:8080/"
        },
        "id": "N1VKc8AFfmbe",
        "outputId": "f3853ae3-2837-4faa-d401-2aeaccfe2730"
      },
      "execution_count": null,
      "outputs": [
        {
          "output_type": "execute_result",
          "data": {
            "text/plain": [
              "[9, 8, 8, 7, 7, 6, 5, 4, 3, 2]"
            ]
          },
          "metadata": {},
          "execution_count": 53
        }
      ]
    },
    {
      "cell_type": "code",
      "source": [
        "my_list.reverse()\n",
        "my_list"
      ],
      "metadata": {
        "colab": {
          "base_uri": "https://localhost:8080/"
        },
        "id": "eIc4o94Kgc9M",
        "outputId": "bf3bd51f-d53d-444e-848e-867f6c6804ab"
      },
      "execution_count": null,
      "outputs": [
        {
          "output_type": "execute_result",
          "data": {
            "text/plain": [
              "[9, 8, 8, 7, 7, 6, 5, 4, 3, 2]"
            ]
          },
          "metadata": {},
          "execution_count": 55
        }
      ]
    },
    {
      "cell_type": "code",
      "source": [
        "lst = list(set(my_list))\n",
        "lst"
      ],
      "metadata": {
        "colab": {
          "base_uri": "https://localhost:8080/"
        },
        "id": "hsz5EH3gg2Cx",
        "outputId": "05a00638-856f-40a5-c43e-7b58c75b85e2"
      },
      "execution_count": null,
      "outputs": [
        {
          "output_type": "execute_result",
          "data": {
            "text/plain": [
              "[2, 3, 4, 5, 6, 7, 8, 9]"
            ]
          },
          "metadata": {},
          "execution_count": 56
        }
      ]
    },
    {
      "cell_type": "code",
      "source": [
        "max(my_list)\n"
      ],
      "metadata": {
        "colab": {
          "base_uri": "https://localhost:8080/"
        },
        "id": "9uzrxo9ThQ43",
        "outputId": "794592b3-6adb-4ebf-956c-02204fda75af"
      },
      "execution_count": null,
      "outputs": [
        {
          "output_type": "execute_result",
          "data": {
            "text/plain": [
              "9"
            ]
          },
          "metadata": {},
          "execution_count": 59
        }
      ]
    },
    {
      "cell_type": "code",
      "source": [
        "min(my_list)"
      ],
      "metadata": {
        "colab": {
          "base_uri": "https://localhost:8080/"
        },
        "id": "MXO1GlMRhYiv",
        "outputId": "66b25bfe-628d-439e-c3ca-86af96f3df97"
      },
      "execution_count": null,
      "outputs": [
        {
          "output_type": "execute_result",
          "data": {
            "text/plain": [
              "2"
            ]
          },
          "metadata": {},
          "execution_count": 60
        }
      ]
    },
    {
      "cell_type": "code",
      "source": [
        "if my_list==lst:\n",
        "  print(\"yes\")\n",
        "else:\n",
        "  print(\"Not equal\")"
      ],
      "metadata": {
        "colab": {
          "base_uri": "https://localhost:8080/"
        },
        "id": "_b8yOr9whesK",
        "outputId": "67d8b2f5-fdf0-49f8-e534-a47be155e4b0"
      },
      "execution_count": null,
      "outputs": [
        {
          "output_type": "stream",
          "name": "stdout",
          "text": [
            "Not equal\n"
          ]
        }
      ]
    },
    {
      "cell_type": "code",
      "source": [
        "nst_lists = [[1,2],[3,4]]\n",
        "nst_lists"
      ],
      "metadata": {
        "colab": {
          "base_uri": "https://localhost:8080/"
        },
        "id": "l6kjXG7MhoSh",
        "outputId": "472ea109-63a6-4dae-dbef-fe33ec6b48bf"
      },
      "execution_count": null,
      "outputs": [
        {
          "output_type": "execute_result",
          "data": {
            "text/plain": [
              "[[1, 2], [3, 4]]"
            ]
          },
          "metadata": {},
          "execution_count": 63
        }
      ]
    },
    {
      "cell_type": "markdown",
      "source": [
        "Python Strings"
      ],
      "metadata": {
        "id": "Z84XT2JKliPD"
      }
    },
    {
      "cell_type": "code",
      "source": [
        "string = \"Hello, This is a STRING.\"\n",
        "len(string)"
      ],
      "metadata": {
        "colab": {
          "base_uri": "https://localhost:8080/"
        },
        "id": "RPGX7ReXh1iT",
        "outputId": "c99fbebf-70e7-46bb-be4b-ea00668af450"
      },
      "execution_count": null,
      "outputs": [
        {
          "output_type": "execute_result",
          "data": {
            "text/plain": [
              "24"
            ]
          },
          "metadata": {},
          "execution_count": 68
        }
      ]
    },
    {
      "cell_type": "code",
      "source": [
        "name = \"RABIYA\"\n",
        "string + \" \" + name"
      ],
      "metadata": {
        "colab": {
          "base_uri": "https://localhost:8080/",
          "height": 36
        },
        "id": "aw7S55LvmZ2D",
        "outputId": "ec45e867-4a1b-4d5b-8a5e-7bb973605bb7"
      },
      "execution_count": null,
      "outputs": [
        {
          "output_type": "execute_result",
          "data": {
            "text/plain": [
              "'Hello, This is a STRING. RABIYA'"
            ],
            "application/vnd.google.colaboratory.intrinsic+json": {
              "type": "string"
            }
          },
          "metadata": {},
          "execution_count": 69
        }
      ]
    },
    {
      "cell_type": "code",
      "source": [
        "name[3]"
      ],
      "metadata": {
        "colab": {
          "base_uri": "https://localhost:8080/",
          "height": 36
        },
        "id": "T1FthdXumiUb",
        "outputId": "db71960a-07f7-43af-8172-40bdee531a7b"
      },
      "execution_count": null,
      "outputs": [
        {
          "output_type": "execute_result",
          "data": {
            "text/plain": [
              "'I'"
            ],
            "application/vnd.google.colaboratory.intrinsic+json": {
              "type": "string"
            }
          },
          "metadata": {},
          "execution_count": 70
        }
      ]
    },
    {
      "cell_type": "code",
      "source": [
        "string[0:5]"
      ],
      "metadata": {
        "colab": {
          "base_uri": "https://localhost:8080/",
          "height": 36
        },
        "id": "Ps5lDVhQmuzu",
        "outputId": "a733563c-31f7-46ab-fbcf-040595e8bf30"
      },
      "execution_count": null,
      "outputs": [
        {
          "output_type": "execute_result",
          "data": {
            "text/plain": [
              "'Hello'"
            ],
            "application/vnd.google.colaboratory.intrinsic+json": {
              "type": "string"
            }
          },
          "metadata": {},
          "execution_count": 71
        }
      ]
    },
    {
      "cell_type": "code",
      "source": [
        "string.upper()"
      ],
      "metadata": {
        "colab": {
          "base_uri": "https://localhost:8080/",
          "height": 36
        },
        "id": "XvJ17yS0mztw",
        "outputId": "b5f2443b-8ead-4684-d683-fe080ec0f9c6"
      },
      "execution_count": null,
      "outputs": [
        {
          "output_type": "execute_result",
          "data": {
            "text/plain": [
              "'HELLO, THIS IS A STRING.'"
            ],
            "application/vnd.google.colaboratory.intrinsic+json": {
              "type": "string"
            }
          },
          "metadata": {},
          "execution_count": 73
        }
      ]
    },
    {
      "cell_type": "code",
      "source": [
        "string.lower()"
      ],
      "metadata": {
        "colab": {
          "base_uri": "https://localhost:8080/",
          "height": 36
        },
        "id": "zxfZT9Qlm4Nu",
        "outputId": "0affa984-ea46-486c-8425-ca6a4b0e88f0"
      },
      "execution_count": null,
      "outputs": [
        {
          "output_type": "execute_result",
          "data": {
            "text/plain": [
              "'hello, this is a string.'"
            ],
            "application/vnd.google.colaboratory.intrinsic+json": {
              "type": "string"
            }
          },
          "metadata": {},
          "execution_count": 74
        }
      ]
    },
    {
      "cell_type": "code",
      "source": [
        "if \"is\" in string:\n",
        "  print(\"yes\")"
      ],
      "metadata": {
        "colab": {
          "base_uri": "https://localhost:8080/"
        },
        "id": "twp-Gpk1m76e",
        "outputId": "1c3376cd-db73-4153-8748-540f611ec426"
      },
      "execution_count": null,
      "outputs": [
        {
          "output_type": "stream",
          "name": "stdout",
          "text": [
            "yes\n"
          ]
        }
      ]
    },
    {
      "cell_type": "code",
      "source": [
        "string.split()"
      ],
      "metadata": {
        "colab": {
          "base_uri": "https://localhost:8080/"
        },
        "id": "-WCac1hDnc_l",
        "outputId": "5e52b82e-3e90-454b-a63a-3be4a6721bd3"
      },
      "execution_count": null,
      "outputs": [
        {
          "output_type": "execute_result",
          "data": {
            "text/plain": [
              "['Hello,', 'This', 'is', 'a', 'STRING.']"
            ]
          },
          "metadata": {},
          "execution_count": 76
        }
      ]
    },
    {
      "cell_type": "code",
      "source": [
        "list = [\"Hello\", \"Hi\"]\n",
        "my_string = \" \".join(list)\n",
        "my_string"
      ],
      "metadata": {
        "colab": {
          "base_uri": "https://localhost:8080/",
          "height": 36
        },
        "id": "OcnF-JfHnoCJ",
        "outputId": "35116b8d-0b52-4959-a5ca-f9b1277e49ac"
      },
      "execution_count": null,
      "outputs": [
        {
          "output_type": "execute_result",
          "data": {
            "text/plain": [
              "'Hello Hi'"
            ],
            "application/vnd.google.colaboratory.intrinsic+json": {
              "type": "string"
            }
          },
          "metadata": {},
          "execution_count": 80
        }
      ]
    },
    {
      "cell_type": "code",
      "source": [
        "var = \"  Hello, World \"\n",
        "var.strip()\n"
      ],
      "metadata": {
        "colab": {
          "base_uri": "https://localhost:8080/",
          "height": 36
        },
        "id": "KKumgQqBnv6a",
        "outputId": "b5e29d4a-4ff0-4f5c-e161-4de6064b8872"
      },
      "execution_count": null,
      "outputs": [
        {
          "output_type": "execute_result",
          "data": {
            "text/plain": [
              "'Hello, World'"
            ],
            "application/vnd.google.colaboratory.intrinsic+json": {
              "type": "string"
            }
          },
          "metadata": {},
          "execution_count": 85
        }
      ]
    },
    {
      "cell_type": "code",
      "source": [
        "palindrome = \"MAM\"\n",
        "if palindrome[0:] == palindrome[::-1]:\n",
        "   print(\"yes\")"
      ],
      "metadata": {
        "colab": {
          "base_uri": "https://localhost:8080/"
        },
        "id": "_hktWCZAomhj",
        "outputId": "d44e5f81-d08e-4d81-b90c-ab6e3bd9367a"
      },
      "execution_count": null,
      "outputs": [
        {
          "output_type": "stream",
          "name": "stdout",
          "text": [
            "yes\n"
          ]
        }
      ]
    },
    {
      "cell_type": "code",
      "source": [
        "var.count(\"o\")"
      ],
      "metadata": {
        "colab": {
          "base_uri": "https://localhost:8080/"
        },
        "id": "G3blbwt5pWrV",
        "outputId": "0dac030a-6c12-4802-a674-bc13a88d196b"
      },
      "execution_count": null,
      "outputs": [
        {
          "output_type": "execute_result",
          "data": {
            "text/plain": [
              "2"
            ]
          },
          "metadata": {},
          "execution_count": 88
        }
      ]
    },
    {
      "cell_type": "code",
      "source": [
        "name\n"
      ],
      "metadata": {
        "colab": {
          "base_uri": "https://localhost:8080/",
          "height": 36
        },
        "id": "3dkFTqSQtCqy",
        "outputId": "8fcfe557-a4ff-479f-a308-210d7752597e"
      },
      "execution_count": null,
      "outputs": [
        {
          "output_type": "execute_result",
          "data": {
            "text/plain": [
              "'RABIYA'"
            ],
            "application/vnd.google.colaboratory.intrinsic+json": {
              "type": "string"
            }
          },
          "metadata": {},
          "execution_count": 92
        }
      ]
    },
    {
      "cell_type": "code",
      "source": [
        "name.index(\"R\")"
      ],
      "metadata": {
        "colab": {
          "base_uri": "https://localhost:8080/"
        },
        "id": "uiYa6b2wui2q",
        "outputId": "f62b1bb4-6bf2-401b-ee93-431bec294efd"
      },
      "execution_count": null,
      "outputs": [
        {
          "output_type": "execute_result",
          "data": {
            "text/plain": [
              "0"
            ]
          },
          "metadata": {},
          "execution_count": 93
        }
      ]
    },
    {
      "cell_type": "code",
      "source": [
        "str = name[::-1]\n",
        "str"
      ],
      "metadata": {
        "colab": {
          "base_uri": "https://localhost:8080/",
          "height": 36
        },
        "id": "dcdKNMi7uzC3",
        "outputId": "c384a660-2d13-4316-f4dc-52cd1aa9edce"
      },
      "execution_count": null,
      "outputs": [
        {
          "output_type": "execute_result",
          "data": {
            "text/plain": [
              "'AYIBAR'"
            ],
            "application/vnd.google.colaboratory.intrinsic+json": {
              "type": "string"
            }
          },
          "metadata": {},
          "execution_count": 95
        }
      ]
    },
    {
      "cell_type": "code",
      "source": [
        "numeric = \"12344\"\n",
        "numeric.isdigit()"
      ],
      "metadata": {
        "colab": {
          "base_uri": "https://localhost:8080/"
        },
        "id": "xbmaytEmvPSq",
        "outputId": "896af40f-06bd-48f7-acb2-45529480b2fc"
      },
      "execution_count": null,
      "outputs": [
        {
          "output_type": "execute_result",
          "data": {
            "text/plain": [
              "True"
            ]
          },
          "metadata": {},
          "execution_count": 96
        }
      ]
    },
    {
      "cell_type": "code",
      "source": [
        "name.isalpha()"
      ],
      "metadata": {
        "colab": {
          "base_uri": "https://localhost:8080/"
        },
        "id": "UutsO2bqvrEL",
        "outputId": "416911b0-dcfe-410a-ba41-5eb655f904b1"
      },
      "execution_count": null,
      "outputs": [
        {
          "output_type": "execute_result",
          "data": {
            "text/plain": [
              "True"
            ]
          },
          "metadata": {},
          "execution_count": 98
        }
      ]
    },
    {
      "cell_type": "code",
      "source": [
        "import re"
      ],
      "metadata": {
        "id": "zNr-nurEvwQZ"
      },
      "execution_count": null,
      "outputs": []
    },
    {
      "cell_type": "code",
      "source": [
        "my_string = \"rabiyabathul3911@gmail.com\""
      ],
      "metadata": {
        "id": "3-X9gd0SwcXq"
      },
      "execution_count": null,
      "outputs": []
    },
    {
      "cell_type": "code",
      "source": [
        "is_valid_email = re.match(r\"[^@]+@[^@]+\\.[^@]+\", my_string) is not None"
      ],
      "metadata": {
        "id": "6JiTOarYwKK_"
      },
      "execution_count": null,
      "outputs": []
    },
    {
      "cell_type": "code",
      "source": [
        "encoded_strIing = my_string.encode(\"utf-8\")\n",
        "encoded_string"
      ],
      "metadata": {
        "colab": {
          "base_uri": "https://localhost:8080/"
        },
        "id": "0qV1aEfwwL7P",
        "outputId": "1f68e103-0d27-4890-c476-39c83287717d"
      },
      "execution_count": null,
      "outputs": [
        {
          "output_type": "execute_result",
          "data": {
            "text/plain": [
              "b'rabiyabathul3911@gmail.com'"
            ]
          },
          "metadata": {},
          "execution_count": 106
        }
      ]
    },
    {
      "cell_type": "code",
      "source": [
        "decoded_string = encoded_string.decode(\"utf-8\")\n",
        "decoded_string"
      ],
      "metadata": {
        "colab": {
          "base_uri": "https://localhost:8080/",
          "height": 36
        },
        "id": "IhwTEl9yxDCJ",
        "outputId": "e19da6ee-64d4-47aa-85c8-ac9a2e04ae50"
      },
      "execution_count": null,
      "outputs": [
        {
          "output_type": "execute_result",
          "data": {
            "text/plain": [
              "'rabiyabathul3911@gmail.com'"
            ],
            "application/vnd.google.colaboratory.intrinsic+json": {
              "type": "string"
            }
          },
          "metadata": {},
          "execution_count": 107
        }
      ]
    },
    {
      "cell_type": "markdown",
      "source": [
        "Python Tuples"
      ],
      "metadata": {
        "id": "ae051qJBmwuL"
      }
    },
    {
      "cell_type": "code",
      "source": [
        "my_tuple = (1,\"Rabiya\",2.0)\n",
        "first_element=type(my_tuple[0])\n",
        "new_tuple = my_tuple+(7,8)\n",
        "print(new_tuple)\n",
        "multiplied_tuple=my_tuple*2\n",
        "print(multiplied_tuple)\n",
        "if 2 in my_tuple:\n",
        "  print(\"yes exists\")\n",
        "length=len(my_tuple)\n",
        "print(length)\n",
        "for i in my_tuple:\n",
        "  print(i)\n",
        "tuple_to_list=list(my_tuple)\n",
        "print(tuple_to_list)\n",
        "list_to_tuple=tuple(tuple_to_list)\n",
        "print(list_to_tuple)\n",
        "my_tuple1=(1,2,3)\n",
        "maximum=max(my_tuple1)\n",
        "print(maximum)\n",
        "minimum=min(my_tuple1)\n",
        "print(minimum)\n",
        "nested_tuple=((1,3),(5,7))\n",
        "print(nested_tuple)"
      ],
      "metadata": {
        "id": "t8oZu969xKVQ",
        "colab": {
          "base_uri": "https://localhost:8080/"
        },
        "outputId": "5eb772fe-8e8d-4dbd-f7c1-59bfe6679fd3"
      },
      "execution_count": 2,
      "outputs": [
        {
          "output_type": "stream",
          "name": "stdout",
          "text": [
            "(1, 'Rabiya', 2.0, 7, 8)\n",
            "(1, 'Rabiya', 2.0, 1, 'Rabiya', 2.0)\n",
            "yes exists\n",
            "3\n",
            "1\n",
            "Rabiya\n",
            "2.0\n",
            "[1, 'Rabiya', 2.0]\n",
            "(1, 'Rabiya', 2.0)\n",
            "3\n",
            "1\n",
            "((1, 3), (5, 7))\n"
          ]
        }
      ]
    },
    {
      "cell_type": "markdown",
      "source": [
        "Python sets"
      ],
      "metadata": {
        "id": "1FwHyLzIpdTG"
      }
    },
    {
      "cell_type": "code",
      "source": [
        "\n",
        "my_set1={1,3,4,6}\n",
        "my_set2={4,6,7,8}\n",
        "union_set= my_set1 | my_set2\n",
        "print(union_set)\n",
        "intersect_set=my_set1 & my_set2\n",
        "print(intersect_set)\n",
        "difference_set = my_set1 - {3,4}\n",
        "print(difference_set)\n",
        "if 4 in my_set1:\n",
        "  print(\"4 is present\")\n",
        "add_element=my_set1.add(7)\n",
        "print(add_element)\n",
        "rem_element=my_set1.remove(3)\n",
        "print(rem_element)\n",
        "length=len(my_set1)\n",
        "print(length)\n",
        "for item in my_set1:\n",
        "  print(item)\n",
        "subset={3,4}.issubset(my_set1)\n",
        "print(subset)\n",
        "disjointset=my_set1.isdisjoint(my_set2)\n",
        "print(disjointset)\n",
        "frozen_set= frozenset(my_set1)\n",
        "print(frozen_set)"
      ],
      "metadata": {
        "colab": {
          "base_uri": "https://localhost:8080/"
        },
        "id": "h1Zli6Tspiff",
        "outputId": "449bdc97-b204-4c2d-e4ee-e939a68d2d0c"
      },
      "execution_count": 3,
      "outputs": [
        {
          "output_type": "stream",
          "name": "stdout",
          "text": [
            "{1, 3, 4, 6, 7, 8}\n",
            "{4, 6}\n",
            "{1, 6}\n",
            "4 is present\n",
            "None\n",
            "None\n",
            "4\n",
            "1\n",
            "4\n",
            "6\n",
            "7\n",
            "False\n",
            "False\n",
            "frozenset({1, 4, 6, 7})\n"
          ]
        }
      ]
    },
    {
      "cell_type": "markdown",
      "source": [
        "Python Dictionaries"
      ],
      "metadata": {
        "id": "QnA44Rurp7AA"
      }
    },
    {
      "cell_type": "code",
      "source": [
        "#dictionaries\n",
        "my_dict={\"name\": \"Rabiya\", \"age\" : 21, \"city\":\"madurai\" }\n",
        "print(my_dict)\n",
        "name=my_dict[\"name\"]\n",
        "print(name)\n",
        "my_dict[\"job\"]=\"engineer\"\n",
        "print(my_dict)\n",
        "my_dict[\"age\"] = 21\n",
        "print(my_dict)\n",
        "del my_dict[\"city\"]\n",
        "print(my_dict)\n",
        "if \"name\" in my_dict:\n",
        "  print(\"name exists\")\n",
        "keys = my_dict.keys()\n",
        "print(keys)\n",
        "values = my_dict.values\n",
        "print(values)\n",
        "for key, value in my_dict.items():\n",
        "    print(key, value)\n",
        "my_dict1={\"nationality\":\"Indian\", \"place\": \"vijayawada\"}\n",
        "print(my_dict1)\n",
        "merged_dict = {**my_dict, **my_dict1}\n",
        "print(merged_dict)\n",
        "length = len(my_dict)\n",
        "print(length)\n",
        "my_dict2 = {\"names\": [\"Alice\", \"Bob\"], \"ages\": [25, 30]}\n",
        "print(my_dict2)"
      ],
      "metadata": {
        "colab": {
          "base_uri": "https://localhost:8080/"
        },
        "id": "SUQNcErHp8-W",
        "outputId": "55351be2-402f-4b12-e3c5-2e67083f355e"
      },
      "execution_count": 4,
      "outputs": [
        {
          "output_type": "stream",
          "name": "stdout",
          "text": [
            "{'name': 'Rabiya', 'age': 21, 'city': 'madurai'}\n",
            "Rabiya\n",
            "{'name': 'Rabiya', 'age': 21, 'city': 'madurai', 'job': 'engineer'}\n",
            "{'name': 'Rabiya', 'age': 21, 'city': 'madurai', 'job': 'engineer'}\n",
            "{'name': 'Rabiya', 'age': 21, 'job': 'engineer'}\n",
            "name exists\n",
            "dict_keys(['name', 'age', 'job'])\n",
            "<built-in method values of dict object at 0x796e57c99f40>\n",
            "name Rabiya\n",
            "age 21\n",
            "job engineer\n",
            "{'nationality': 'Indian', 'place': 'vijayawada'}\n",
            "{'name': 'Rabiya', 'age': 21, 'job': 'engineer', 'nationality': 'Indian', 'place': 'vijayawada'}\n",
            "3\n",
            "{'names': ['Alice', 'Bob'], 'ages': [25, 30]}\n"
          ]
        }
      ]
    },
    {
      "cell_type": "markdown",
      "source": [
        "Comprehensive python"
      ],
      "metadata": {
        "id": "Sl4GhS_Cqltf"
      }
    },
    {
      "cell_type": "code",
      "source": [
        "List = [\"1\",\"2\",\"3\",\"4\"]\n",
        "len(List)"
      ],
      "metadata": {
        "colab": {
          "base_uri": "https://localhost:8080/"
        },
        "id": "fMgSkGXgrHsG",
        "outputId": "7ce8076f-9c8b-44fa-ed1a-c2c6d8cc6f98"
      },
      "execution_count": 5,
      "outputs": [
        {
          "output_type": "execute_result",
          "data": {
            "text/plain": [
              "4"
            ]
          },
          "metadata": {},
          "execution_count": 5
        }
      ]
    },
    {
      "cell_type": "code",
      "source": [
        "List[:3]"
      ],
      "metadata": {
        "colab": {
          "base_uri": "https://localhost:8080/"
        },
        "id": "e_nqbQlorkxm",
        "outputId": "bc54b6cc-31eb-40e9-cee1-aa356ae8e205"
      },
      "execution_count": 6,
      "outputs": [
        {
          "output_type": "execute_result",
          "data": {
            "text/plain": [
              "['1', '2', '3']"
            ]
          },
          "metadata": {},
          "execution_count": 6
        }
      ]
    },
    {
      "cell_type": "code",
      "source": [
        "List.pop(3)"
      ],
      "metadata": {
        "colab": {
          "base_uri": "https://localhost:8080/",
          "height": 35
        },
        "id": "Rd2tmWUHsy7V",
        "outputId": "0cd33111-9ec1-4de5-f07f-7a476ccfb48d"
      },
      "execution_count": 8,
      "outputs": [
        {
          "output_type": "execute_result",
          "data": {
            "text/plain": [
              "'4'"
            ],
            "application/vnd.google.colaboratory.intrinsic+json": {
              "type": "string"
            }
          },
          "metadata": {},
          "execution_count": 8
        }
      ]
    },
    {
      "cell_type": "code",
      "source": [
        "list1=[\"apple\",\"banana\",\"cherry\",\"kiwi\"]\n",
        "unique_list=set(list1)\n",
        "print(unique_list)\n",
        "list1.sort()\n",
        "print(list1)\n",
        "if \"cherry\"in list1:\n",
        "  print(\"yes exists\")\n",
        "list2=[\"abb\",\"bob\"]\n",
        "index=list2[1]\n",
        "print(index)\n",
        "my_dict={\"age\": 6}\n",
        "print(my_dict)\n",
        "set1={\"Apple\",\"Arun\",\"Aravind\"}\n",
        "print(set1)\n",
        "new_string=\" , \".join(set1)\n",
        "print(new_string)"
      ],
      "metadata": {
        "colab": {
          "base_uri": "https://localhost:8080/"
        },
        "id": "jpSQn-5fs9sP",
        "outputId": "1583d41f-16e9-44f3-8efb-ee198afb978b"
      },
      "execution_count": 9,
      "outputs": [
        {
          "output_type": "stream",
          "name": "stdout",
          "text": [
            "{'kiwi', 'banana', 'apple', 'cherry'}\n",
            "['apple', 'banana', 'cherry', 'kiwi']\n",
            "yes exists\n",
            "bob\n",
            "{'age': 6}\n",
            "{'Arun', 'Apple', 'Aravind'}\n",
            "Arun , Apple , Aravind\n"
          ]
        }
      ]
    }
  ]
}